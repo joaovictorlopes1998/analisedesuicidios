{
 "cells": [
  {
   "cell_type": "code",
   "execution_count": null,
   "id": "cbce2702",
   "metadata": {},
   "outputs": [],
   "source": [
    "#O presente estudo busca realizar uma análise exploratória de um banco de dados que contém informações de suicídios ocorridos no Brasil entre os anos 2014 e 2018\n",
    "#O estudo limita-se a analisar apenas o ano de 2018 e realizar um comparativo final das ocorrências com os outros anos"
   ]
  },
  {
   "cell_type": "code",
   "execution_count": 1,
   "id": "1968e8e0",
   "metadata": {},
   "outputs": [],
   "source": [
    "#Importando todas as bibliotecas que serão utilizadas durante a análise\n",
    "import pandas as pd\n",
    "import seaborn as sns\n",
    "import statistics as sts\n",
    "import matplotlib.pyplot as plt\n",
    "from datetime import datetime"
   ]
  },
  {
   "cell_type": "code",
   "execution_count": 47,
   "id": "ca3c4178",
   "metadata": {},
   "outputs": [
    {
     "data": {
      "text/html": [
       "<div>\n",
       "<style scoped>\n",
       "    .dataframe tbody tr th:only-of-type {\n",
       "        vertical-align: middle;\n",
       "    }\n",
       "\n",
       "    .dataframe tbody tr th {\n",
       "        vertical-align: top;\n",
       "    }\n",
       "\n",
       "    .dataframe thead th {\n",
       "        text-align: right;\n",
       "    }\n",
       "</style>\n",
       "<table border=\"1\" class=\"dataframe\">\n",
       "  <thead>\n",
       "    <tr style=\"text-align: right;\">\n",
       "      <th></th>\n",
       "      <th>estado</th>\n",
       "      <th>ano</th>\n",
       "      <th>CIRCOBITO</th>\n",
       "      <th>DTOBITO</th>\n",
       "      <th>DTNASC</th>\n",
       "      <th>SEXO</th>\n",
       "      <th>RACACOR</th>\n",
       "      <th>ESTCIV</th>\n",
       "      <th>ESC</th>\n",
       "      <th>OCUP</th>\n",
       "      <th>CODMUNRES</th>\n",
       "      <th>LOCOCOR</th>\n",
       "      <th>ASSISTMED</th>\n",
       "      <th>CAUSABAS</th>\n",
       "      <th>CAUSABAS_O</th>\n",
       "      <th>idade</th>\n",
       "      <th>mes</th>\n",
       "    </tr>\n",
       "  </thead>\n",
       "  <tbody>\n",
       "    <tr>\n",
       "      <th>0</th>\n",
       "      <td>AC</td>\n",
       "      <td>2014</td>\n",
       "      <td>Suicídio</td>\n",
       "      <td>02-01-14</td>\n",
       "      <td>02-07-77</td>\n",
       "      <td>Masculino</td>\n",
       "      <td>Preta</td>\n",
       "      <td>Casado</td>\n",
       "      <td>4 a 7 anos</td>\n",
       "      <td>ATLETA PROFISSIONAL DE FUTEBOL</td>\n",
       "      <td>Rio Branco</td>\n",
       "      <td>Domicílio</td>\n",
       "      <td>Não</td>\n",
       "      <td>X700</td>\n",
       "      <td>X700</td>\n",
       "      <td>37.0</td>\n",
       "      <td>1</td>\n",
       "    </tr>\n",
       "    <tr>\n",
       "      <th>1</th>\n",
       "      <td>AC</td>\n",
       "      <td>2014</td>\n",
       "      <td>Suicídio</td>\n",
       "      <td>23-01-14</td>\n",
       "      <td>30-07-66</td>\n",
       "      <td>Masculino</td>\n",
       "      <td>Branca</td>\n",
       "      <td>União consensual</td>\n",
       "      <td>12 e mais</td>\n",
       "      <td>MEDICO GINECOLOGISTA E OBSTETRA</td>\n",
       "      <td>Rio Branco</td>\n",
       "      <td>Domicílio</td>\n",
       "      <td>Não</td>\n",
       "      <td>X800</td>\n",
       "      <td>X800</td>\n",
       "      <td>48.0</td>\n",
       "      <td>1</td>\n",
       "    </tr>\n",
       "    <tr>\n",
       "      <th>2</th>\n",
       "      <td>AC</td>\n",
       "      <td>2014</td>\n",
       "      <td>Suicídio</td>\n",
       "      <td>31-01-14</td>\n",
       "      <td>28-07-43</td>\n",
       "      <td>Masculino</td>\n",
       "      <td>Branca</td>\n",
       "      <td>NaN</td>\n",
       "      <td>NaN</td>\n",
       "      <td>0</td>\n",
       "      <td>Rio Branco</td>\n",
       "      <td>Domicílio</td>\n",
       "      <td>Não</td>\n",
       "      <td>X700</td>\n",
       "      <td>X700</td>\n",
       "      <td>71.0</td>\n",
       "      <td>1</td>\n",
       "    </tr>\n",
       "    <tr>\n",
       "      <th>3</th>\n",
       "      <td>AC</td>\n",
       "      <td>2014</td>\n",
       "      <td>Suicídio</td>\n",
       "      <td>05-02-14</td>\n",
       "      <td>04-07-99</td>\n",
       "      <td>Masculino</td>\n",
       "      <td>Branca</td>\n",
       "      <td>Solteiro</td>\n",
       "      <td>4 a 7 anos</td>\n",
       "      <td>ESTUDANTE</td>\n",
       "      <td>Epitaciolândia</td>\n",
       "      <td>Outros</td>\n",
       "      <td>Não</td>\n",
       "      <td>X700</td>\n",
       "      <td>X700</td>\n",
       "      <td>15.0</td>\n",
       "      <td>2</td>\n",
       "    </tr>\n",
       "    <tr>\n",
       "      <th>4</th>\n",
       "      <td>AC</td>\n",
       "      <td>2014</td>\n",
       "      <td>Suicídio</td>\n",
       "      <td>06-02-14</td>\n",
       "      <td>02-05-72</td>\n",
       "      <td>Masculino</td>\n",
       "      <td>Branca</td>\n",
       "      <td>NaN</td>\n",
       "      <td>NaN</td>\n",
       "      <td>0</td>\n",
       "      <td>Rio Branco</td>\n",
       "      <td>Outros</td>\n",
       "      <td>Não</td>\n",
       "      <td>X700</td>\n",
       "      <td>X700</td>\n",
       "      <td>42.0</td>\n",
       "      <td>2</td>\n",
       "    </tr>\n",
       "    <tr>\n",
       "      <th>...</th>\n",
       "      <td>...</td>\n",
       "      <td>...</td>\n",
       "      <td>...</td>\n",
       "      <td>...</td>\n",
       "      <td>...</td>\n",
       "      <td>...</td>\n",
       "      <td>...</td>\n",
       "      <td>...</td>\n",
       "      <td>...</td>\n",
       "      <td>...</td>\n",
       "      <td>...</td>\n",
       "      <td>...</td>\n",
       "      <td>...</td>\n",
       "      <td>...</td>\n",
       "      <td>...</td>\n",
       "      <td>...</td>\n",
       "      <td>...</td>\n",
       "    </tr>\n",
       "    <tr>\n",
       "      <th>58629</th>\n",
       "      <td>TO</td>\n",
       "      <td>2018</td>\n",
       "      <td>Suicídio</td>\n",
       "      <td>16-04-18</td>\n",
       "      <td>17-11-89</td>\n",
       "      <td>Masculino</td>\n",
       "      <td>Branca</td>\n",
       "      <td>Solteiro</td>\n",
       "      <td>8 a 11 anos</td>\n",
       "      <td>DESEMPREGADO CRONICO</td>\n",
       "      <td>Palmas</td>\n",
       "      <td>Domicílio</td>\n",
       "      <td>Não</td>\n",
       "      <td>X780</td>\n",
       "      <td>X780</td>\n",
       "      <td>29.0</td>\n",
       "      <td>4</td>\n",
       "    </tr>\n",
       "    <tr>\n",
       "      <th>58630</th>\n",
       "      <td>TO</td>\n",
       "      <td>2018</td>\n",
       "      <td>Suicídio</td>\n",
       "      <td>14-05-18</td>\n",
       "      <td>03-07-90</td>\n",
       "      <td>Feminino</td>\n",
       "      <td>Parda</td>\n",
       "      <td>União consensual</td>\n",
       "      <td>NaN</td>\n",
       "      <td>ESTUDANTE</td>\n",
       "      <td>Palmas</td>\n",
       "      <td>Domicílio</td>\n",
       "      <td>Não</td>\n",
       "      <td>X610</td>\n",
       "      <td>X840</td>\n",
       "      <td>28.0</td>\n",
       "      <td>5</td>\n",
       "    </tr>\n",
       "    <tr>\n",
       "      <th>58631</th>\n",
       "      <td>TO</td>\n",
       "      <td>2018</td>\n",
       "      <td>Suicídio</td>\n",
       "      <td>15-05-18</td>\n",
       "      <td>08-08-55</td>\n",
       "      <td>Feminino</td>\n",
       "      <td>Parda</td>\n",
       "      <td>Viúvo</td>\n",
       "      <td>Nenhuma</td>\n",
       "      <td>DONA DE CASA</td>\n",
       "      <td>Palmas</td>\n",
       "      <td>Hospital</td>\n",
       "      <td>Sim</td>\n",
       "      <td>X699</td>\n",
       "      <td>R99</td>\n",
       "      <td>63.0</td>\n",
       "      <td>5</td>\n",
       "    </tr>\n",
       "    <tr>\n",
       "      <th>58632</th>\n",
       "      <td>TO</td>\n",
       "      <td>2018</td>\n",
       "      <td>Suicídio</td>\n",
       "      <td>24-07-18</td>\n",
       "      <td>27-06-01</td>\n",
       "      <td>Masculino</td>\n",
       "      <td>Parda</td>\n",
       "      <td>Solteiro</td>\n",
       "      <td>8 a 11 anos</td>\n",
       "      <td>ESTUDANTE</td>\n",
       "      <td>Araguaína</td>\n",
       "      <td>Outros</td>\n",
       "      <td>Não</td>\n",
       "      <td>X700</td>\n",
       "      <td>X700</td>\n",
       "      <td>17.0</td>\n",
       "      <td>7</td>\n",
       "    </tr>\n",
       "    <tr>\n",
       "      <th>58633</th>\n",
       "      <td>TO</td>\n",
       "      <td>2018</td>\n",
       "      <td>Suicídio</td>\n",
       "      <td>28-12-18</td>\n",
       "      <td>17-07-76</td>\n",
       "      <td>Masculino</td>\n",
       "      <td>Preta</td>\n",
       "      <td>União consensual</td>\n",
       "      <td>Nenhuma</td>\n",
       "      <td>0</td>\n",
       "      <td>Natividade</td>\n",
       "      <td>Domicílio</td>\n",
       "      <td>Não</td>\n",
       "      <td>X700</td>\n",
       "      <td>X700</td>\n",
       "      <td>42.0</td>\n",
       "      <td>12</td>\n",
       "    </tr>\n",
       "  </tbody>\n",
       "</table>\n",
       "<p>58634 rows × 17 columns</p>\n",
       "</div>"
      ],
      "text/plain": [
       "      estado   ano CIRCOBITO   DTOBITO    DTNASC       SEXO RACACOR  \\\n",
       "0         AC  2014  Suicídio  02-01-14  02-07-77  Masculino   Preta   \n",
       "1         AC  2014  Suicídio  23-01-14  30-07-66  Masculino  Branca   \n",
       "2         AC  2014  Suicídio  31-01-14  28-07-43  Masculino  Branca   \n",
       "3         AC  2014  Suicídio  05-02-14  04-07-99  Masculino  Branca   \n",
       "4         AC  2014  Suicídio  06-02-14  02-05-72  Masculino  Branca   \n",
       "...      ...   ...       ...       ...       ...        ...     ...   \n",
       "58629     TO  2018  Suicídio  16-04-18  17-11-89  Masculino  Branca   \n",
       "58630     TO  2018  Suicídio  14-05-18  03-07-90   Feminino   Parda   \n",
       "58631     TO  2018  Suicídio  15-05-18  08-08-55   Feminino   Parda   \n",
       "58632     TO  2018  Suicídio  24-07-18  27-06-01  Masculino   Parda   \n",
       "58633     TO  2018  Suicídio  28-12-18  17-07-76  Masculino   Preta   \n",
       "\n",
       "                 ESTCIV          ESC                             OCUP  \\\n",
       "0                Casado   4 a 7 anos   ATLETA PROFISSIONAL DE FUTEBOL   \n",
       "1      União consensual    12 e mais  MEDICO GINECOLOGISTA E OBSTETRA   \n",
       "2                   NaN          NaN                                0   \n",
       "3              Solteiro   4 a 7 anos                        ESTUDANTE   \n",
       "4                   NaN          NaN                                0   \n",
       "...                 ...          ...                              ...   \n",
       "58629          Solteiro  8 a 11 anos            DESEMPREGADO CRONICO    \n",
       "58630  União consensual          NaN                        ESTUDANTE   \n",
       "58631             Viúvo      Nenhuma                     DONA DE CASA   \n",
       "58632          Solteiro  8 a 11 anos                        ESTUDANTE   \n",
       "58633  União consensual      Nenhuma                                0   \n",
       "\n",
       "            CODMUNRES    LOCOCOR ASSISTMED CAUSABAS CAUSABAS_O  idade  mes  \n",
       "0          Rio Branco  Domicílio       Não     X700       X700   37.0    1  \n",
       "1          Rio Branco  Domicílio       Não     X800       X800   48.0    1  \n",
       "2          Rio Branco  Domicílio       Não     X700       X700   71.0    1  \n",
       "3      Epitaciolândia     Outros       Não     X700       X700   15.0    2  \n",
       "4          Rio Branco     Outros       Não     X700       X700   42.0    2  \n",
       "...               ...        ...       ...      ...        ...    ...  ...  \n",
       "58629          Palmas  Domicílio       Não     X780       X780   29.0    4  \n",
       "58630          Palmas  Domicílio       Não     X610       X840   28.0    5  \n",
       "58631          Palmas   Hospital       Sim     X699        R99   63.0    5  \n",
       "58632       Araguaína     Outros       Não     X700       X700   17.0    7  \n",
       "58633      Natividade  Domicílio       Não     X700       X700   42.0   12  \n",
       "\n",
       "[58634 rows x 17 columns]"
      ]
     },
     "execution_count": 47,
     "metadata": {},
     "output_type": "execute_result"
    }
   ],
   "source": [
    "#Carregando o banco de dados na variável 'df_geral'\n",
    "df_geral = pd.read_csv(\"datasus_suicidio_2014_2018.csv\", sep = \",\", encoding = 'latin-1')\n",
    "df_geral"
   ]
  },
  {
   "cell_type": "code",
   "execution_count": 3,
   "id": "07813a72",
   "metadata": {},
   "outputs": [],
   "source": [
    "#Criando a base de 2018\n",
    "df_2018 = df_geral.loc[df_geral['ano'] == 2018]"
   ]
  },
  {
   "cell_type": "code",
   "execution_count": 4,
   "id": "7ef65429",
   "metadata": {},
   "outputs": [
    {
     "data": {
      "text/html": [
       "<div>\n",
       "<style scoped>\n",
       "    .dataframe tbody tr th:only-of-type {\n",
       "        vertical-align: middle;\n",
       "    }\n",
       "\n",
       "    .dataframe tbody tr th {\n",
       "        vertical-align: top;\n",
       "    }\n",
       "\n",
       "    .dataframe thead th {\n",
       "        text-align: right;\n",
       "    }\n",
       "</style>\n",
       "<table border=\"1\" class=\"dataframe\">\n",
       "  <thead>\n",
       "    <tr style=\"text-align: right;\">\n",
       "      <th></th>\n",
       "      <th>estado</th>\n",
       "      <th>ano</th>\n",
       "      <th>CIRCOBITO</th>\n",
       "      <th>DTOBITO</th>\n",
       "      <th>DTNASC</th>\n",
       "      <th>SEXO</th>\n",
       "      <th>RACACOR</th>\n",
       "      <th>ESTCIV</th>\n",
       "      <th>ESC</th>\n",
       "      <th>OCUP</th>\n",
       "      <th>CODMUNRES</th>\n",
       "      <th>LOCOCOR</th>\n",
       "      <th>ASSISTMED</th>\n",
       "      <th>CAUSABAS</th>\n",
       "      <th>CAUSABAS_O</th>\n",
       "      <th>idade</th>\n",
       "      <th>mes</th>\n",
       "    </tr>\n",
       "  </thead>\n",
       "  <tbody>\n",
       "    <tr>\n",
       "      <th>45870</th>\n",
       "      <td>AC</td>\n",
       "      <td>2018</td>\n",
       "      <td>Suicídio</td>\n",
       "      <td>06-11-18</td>\n",
       "      <td>13-02-94</td>\n",
       "      <td>Masculino</td>\n",
       "      <td>Indígena</td>\n",
       "      <td>Solteiro</td>\n",
       "      <td>Nenhuma</td>\n",
       "      <td>TRABALHADOR VOLANTE DA AGRICULTURA</td>\n",
       "      <td>Manoel Urbano</td>\n",
       "      <td>Via pública</td>\n",
       "      <td>Não</td>\n",
       "      <td>X700</td>\n",
       "      <td>X700</td>\n",
       "      <td>24.0</td>\n",
       "      <td>11</td>\n",
       "    </tr>\n",
       "    <tr>\n",
       "      <th>45871</th>\n",
       "      <td>AC</td>\n",
       "      <td>2018</td>\n",
       "      <td>Suicídio</td>\n",
       "      <td>02-01-18</td>\n",
       "      <td>17-06-97</td>\n",
       "      <td>Masculino</td>\n",
       "      <td>Parda</td>\n",
       "      <td>União consensual</td>\n",
       "      <td>8 a 11 anos</td>\n",
       "      <td>DESEMPREGADO CRONICO</td>\n",
       "      <td>Feijó</td>\n",
       "      <td>Domicílio</td>\n",
       "      <td>NaN</td>\n",
       "      <td>X709</td>\n",
       "      <td>X70</td>\n",
       "      <td>21.0</td>\n",
       "      <td>1</td>\n",
       "    </tr>\n",
       "    <tr>\n",
       "      <th>45872</th>\n",
       "      <td>AC</td>\n",
       "      <td>2018</td>\n",
       "      <td>Suicídio</td>\n",
       "      <td>15-01-18</td>\n",
       "      <td>14-01-90</td>\n",
       "      <td>Masculino</td>\n",
       "      <td>Parda</td>\n",
       "      <td>União consensual</td>\n",
       "      <td>4 a 7 anos</td>\n",
       "      <td>0</td>\n",
       "      <td>Marechal Thaumaturgo</td>\n",
       "      <td>Domicílio</td>\n",
       "      <td>NaN</td>\n",
       "      <td>X700</td>\n",
       "      <td>X700</td>\n",
       "      <td>28.0</td>\n",
       "      <td>1</td>\n",
       "    </tr>\n",
       "    <tr>\n",
       "      <th>45873</th>\n",
       "      <td>AC</td>\n",
       "      <td>2018</td>\n",
       "      <td>Suicídio</td>\n",
       "      <td>17-03-18</td>\n",
       "      <td>07-01-82</td>\n",
       "      <td>Masculino</td>\n",
       "      <td>Parda</td>\n",
       "      <td>União consensual</td>\n",
       "      <td>NaN</td>\n",
       "      <td>TRABALHADOR VOLANTE DA AGRICULTURA</td>\n",
       "      <td>Marechal Thaumaturgo</td>\n",
       "      <td>Domicílio</td>\n",
       "      <td>NaN</td>\n",
       "      <td>X700</td>\n",
       "      <td>X700</td>\n",
       "      <td>36.0</td>\n",
       "      <td>3</td>\n",
       "    </tr>\n",
       "    <tr>\n",
       "      <th>45874</th>\n",
       "      <td>AC</td>\n",
       "      <td>2018</td>\n",
       "      <td>Suicídio</td>\n",
       "      <td>27-03-18</td>\n",
       "      <td>05-07-76</td>\n",
       "      <td>Feminino</td>\n",
       "      <td>Parda</td>\n",
       "      <td>União consensual</td>\n",
       "      <td>12 e mais</td>\n",
       "      <td>0</td>\n",
       "      <td>Marechal Thaumaturgo</td>\n",
       "      <td>Domicílio</td>\n",
       "      <td>Não</td>\n",
       "      <td>X700</td>\n",
       "      <td>X700</td>\n",
       "      <td>42.0</td>\n",
       "      <td>3</td>\n",
       "    </tr>\n",
       "    <tr>\n",
       "      <th>...</th>\n",
       "      <td>...</td>\n",
       "      <td>...</td>\n",
       "      <td>...</td>\n",
       "      <td>...</td>\n",
       "      <td>...</td>\n",
       "      <td>...</td>\n",
       "      <td>...</td>\n",
       "      <td>...</td>\n",
       "      <td>...</td>\n",
       "      <td>...</td>\n",
       "      <td>...</td>\n",
       "      <td>...</td>\n",
       "      <td>...</td>\n",
       "      <td>...</td>\n",
       "      <td>...</td>\n",
       "      <td>...</td>\n",
       "      <td>...</td>\n",
       "    </tr>\n",
       "    <tr>\n",
       "      <th>58629</th>\n",
       "      <td>TO</td>\n",
       "      <td>2018</td>\n",
       "      <td>Suicídio</td>\n",
       "      <td>16-04-18</td>\n",
       "      <td>17-11-89</td>\n",
       "      <td>Masculino</td>\n",
       "      <td>Branca</td>\n",
       "      <td>Solteiro</td>\n",
       "      <td>8 a 11 anos</td>\n",
       "      <td>DESEMPREGADO CRONICO</td>\n",
       "      <td>Palmas</td>\n",
       "      <td>Domicílio</td>\n",
       "      <td>Não</td>\n",
       "      <td>X780</td>\n",
       "      <td>X780</td>\n",
       "      <td>29.0</td>\n",
       "      <td>4</td>\n",
       "    </tr>\n",
       "    <tr>\n",
       "      <th>58630</th>\n",
       "      <td>TO</td>\n",
       "      <td>2018</td>\n",
       "      <td>Suicídio</td>\n",
       "      <td>14-05-18</td>\n",
       "      <td>03-07-90</td>\n",
       "      <td>Feminino</td>\n",
       "      <td>Parda</td>\n",
       "      <td>União consensual</td>\n",
       "      <td>NaN</td>\n",
       "      <td>ESTUDANTE</td>\n",
       "      <td>Palmas</td>\n",
       "      <td>Domicílio</td>\n",
       "      <td>Não</td>\n",
       "      <td>X610</td>\n",
       "      <td>X840</td>\n",
       "      <td>28.0</td>\n",
       "      <td>5</td>\n",
       "    </tr>\n",
       "    <tr>\n",
       "      <th>58631</th>\n",
       "      <td>TO</td>\n",
       "      <td>2018</td>\n",
       "      <td>Suicídio</td>\n",
       "      <td>15-05-18</td>\n",
       "      <td>08-08-55</td>\n",
       "      <td>Feminino</td>\n",
       "      <td>Parda</td>\n",
       "      <td>Viúvo</td>\n",
       "      <td>Nenhuma</td>\n",
       "      <td>DONA DE CASA</td>\n",
       "      <td>Palmas</td>\n",
       "      <td>Hospital</td>\n",
       "      <td>Sim</td>\n",
       "      <td>X699</td>\n",
       "      <td>R99</td>\n",
       "      <td>63.0</td>\n",
       "      <td>5</td>\n",
       "    </tr>\n",
       "    <tr>\n",
       "      <th>58632</th>\n",
       "      <td>TO</td>\n",
       "      <td>2018</td>\n",
       "      <td>Suicídio</td>\n",
       "      <td>24-07-18</td>\n",
       "      <td>27-06-01</td>\n",
       "      <td>Masculino</td>\n",
       "      <td>Parda</td>\n",
       "      <td>Solteiro</td>\n",
       "      <td>8 a 11 anos</td>\n",
       "      <td>ESTUDANTE</td>\n",
       "      <td>Araguaína</td>\n",
       "      <td>Outros</td>\n",
       "      <td>Não</td>\n",
       "      <td>X700</td>\n",
       "      <td>X700</td>\n",
       "      <td>17.0</td>\n",
       "      <td>7</td>\n",
       "    </tr>\n",
       "    <tr>\n",
       "      <th>58633</th>\n",
       "      <td>TO</td>\n",
       "      <td>2018</td>\n",
       "      <td>Suicídio</td>\n",
       "      <td>28-12-18</td>\n",
       "      <td>17-07-76</td>\n",
       "      <td>Masculino</td>\n",
       "      <td>Preta</td>\n",
       "      <td>União consensual</td>\n",
       "      <td>Nenhuma</td>\n",
       "      <td>0</td>\n",
       "      <td>Natividade</td>\n",
       "      <td>Domicílio</td>\n",
       "      <td>Não</td>\n",
       "      <td>X700</td>\n",
       "      <td>X700</td>\n",
       "      <td>42.0</td>\n",
       "      <td>12</td>\n",
       "    </tr>\n",
       "  </tbody>\n",
       "</table>\n",
       "<p>12252 rows × 17 columns</p>\n",
       "</div>"
      ],
      "text/plain": [
       "      estado   ano CIRCOBITO   DTOBITO    DTNASC       SEXO   RACACOR  \\\n",
       "45870     AC  2018  Suicídio  06-11-18  13-02-94  Masculino  Indígena   \n",
       "45871     AC  2018  Suicídio  02-01-18  17-06-97  Masculino     Parda   \n",
       "45872     AC  2018  Suicídio  15-01-18  14-01-90  Masculino     Parda   \n",
       "45873     AC  2018  Suicídio  17-03-18  07-01-82  Masculino     Parda   \n",
       "45874     AC  2018  Suicídio  27-03-18  05-07-76   Feminino     Parda   \n",
       "...      ...   ...       ...       ...       ...        ...       ...   \n",
       "58629     TO  2018  Suicídio  16-04-18  17-11-89  Masculino    Branca   \n",
       "58630     TO  2018  Suicídio  14-05-18  03-07-90   Feminino     Parda   \n",
       "58631     TO  2018  Suicídio  15-05-18  08-08-55   Feminino     Parda   \n",
       "58632     TO  2018  Suicídio  24-07-18  27-06-01  Masculino     Parda   \n",
       "58633     TO  2018  Suicídio  28-12-18  17-07-76  Masculino     Preta   \n",
       "\n",
       "                 ESTCIV          ESC                                OCUP  \\\n",
       "45870          Solteiro      Nenhuma  TRABALHADOR VOLANTE DA AGRICULTURA   \n",
       "45871  União consensual  8 a 11 anos               DESEMPREGADO CRONICO    \n",
       "45872  União consensual   4 a 7 anos                                   0   \n",
       "45873  União consensual          NaN  TRABALHADOR VOLANTE DA AGRICULTURA   \n",
       "45874  União consensual    12 e mais                                   0   \n",
       "...                 ...          ...                                 ...   \n",
       "58629          Solteiro  8 a 11 anos               DESEMPREGADO CRONICO    \n",
       "58630  União consensual          NaN                           ESTUDANTE   \n",
       "58631             Viúvo      Nenhuma                        DONA DE CASA   \n",
       "58632          Solteiro  8 a 11 anos                           ESTUDANTE   \n",
       "58633  União consensual      Nenhuma                                   0   \n",
       "\n",
       "                  CODMUNRES      LOCOCOR ASSISTMED CAUSABAS CAUSABAS_O  idade  \\\n",
       "45870         Manoel Urbano  Via pública       Não     X700       X700   24.0   \n",
       "45871                 Feijó    Domicílio       NaN     X709        X70   21.0   \n",
       "45872  Marechal Thaumaturgo    Domicílio       NaN     X700       X700   28.0   \n",
       "45873  Marechal Thaumaturgo    Domicílio       NaN     X700       X700   36.0   \n",
       "45874  Marechal Thaumaturgo    Domicílio       Não     X700       X700   42.0   \n",
       "...                     ...          ...       ...      ...        ...    ...   \n",
       "58629                Palmas    Domicílio       Não     X780       X780   29.0   \n",
       "58630                Palmas    Domicílio       Não     X610       X840   28.0   \n",
       "58631                Palmas     Hospital       Sim     X699        R99   63.0   \n",
       "58632             Araguaína       Outros       Não     X700       X700   17.0   \n",
       "58633            Natividade    Domicílio       Não     X700       X700   42.0   \n",
       "\n",
       "       mes  \n",
       "45870   11  \n",
       "45871    1  \n",
       "45872    1  \n",
       "45873    3  \n",
       "45874    3  \n",
       "...    ...  \n",
       "58629    4  \n",
       "58630    5  \n",
       "58631    5  \n",
       "58632    7  \n",
       "58633   12  \n",
       "\n",
       "[12252 rows x 17 columns]"
      ]
     },
     "execution_count": 4,
     "metadata": {},
     "output_type": "execute_result"
    }
   ],
   "source": [
    "#Filtrando apenas ocorrências de suicídio para nossa base\n",
    "df_2018_suicidios = df_2018.loc[df_2018['CIRCOBITO'] == 'Suicídio']\n",
    "df_2018_suicidios"
   ]
  },
  {
   "cell_type": "code",
   "execution_count": 5,
   "id": "57771043",
   "metadata": {
    "scrolled": true
   },
   "outputs": [
    {
     "data": {
      "text/plain": [
       "estado           0\n",
       "ano              0\n",
       "CIRCOBITO        0\n",
       "DTOBITO          0\n",
       "DTNASC          44\n",
       "SEXO             4\n",
       "RACACOR        175\n",
       "ESTCIV         917\n",
       "ESC           2673\n",
       "OCUP             0\n",
       "CODMUNRES        0\n",
       "LOCOCOR         25\n",
       "ASSISTMED     3207\n",
       "CAUSABAS         0\n",
       "CAUSABAS_O      12\n",
       "idade           44\n",
       "mes              0\n",
       "dtype: int64"
      ]
     },
     "execution_count": 5,
     "metadata": {},
     "output_type": "execute_result"
    }
   ],
   "source": [
    "#Iniciamos o tratamento da nossa base. Analisamos se temos colunas com valores nulos\n",
    "#Observamos que temos grande volume de nulos nas colunas RACACOR, ESTCIV, ESC e ASSISTMED\n",
    "df_2018_suicidios.isnull().sum()"
   ]
  },
  {
   "cell_type": "code",
   "execution_count": 6,
   "id": "506fd36c",
   "metadata": {},
   "outputs": [
    {
     "data": {
      "text/plain": [
       "'Branca'"
      ]
     },
     "execution_count": 6,
     "metadata": {},
     "output_type": "execute_result"
    }
   ],
   "source": [
    "#Para tratarmos os valores nulos da coluna RACACOR, utilizaremos o valor de moda para replace\n",
    "sts.mode(df_2018_suicidios['RACACOR'])"
   ]
  },
  {
   "cell_type": "code",
   "execution_count": 7,
   "id": "08f5fdac",
   "metadata": {},
   "outputs": [
    {
     "data": {
      "text/plain": [
       "'Solteiro'"
      ]
     },
     "execution_count": 7,
     "metadata": {},
     "output_type": "execute_result"
    }
   ],
   "source": [
    "#Realizaremos o mesmo para as colunas restantes\n",
    "sts.mode(df_2018_suicidios['ESTCIV'])"
   ]
  },
  {
   "cell_type": "code",
   "execution_count": 8,
   "id": "04e78496",
   "metadata": {},
   "outputs": [
    {
     "data": {
      "text/plain": [
       "'8 a 11 anos'"
      ]
     },
     "execution_count": 8,
     "metadata": {},
     "output_type": "execute_result"
    }
   ],
   "source": [
    "sts.mode(df_2018_suicidios['ESC'])"
   ]
  },
  {
   "cell_type": "code",
   "execution_count": 9,
   "id": "da74da8a",
   "metadata": {},
   "outputs": [
    {
     "data": {
      "text/plain": [
       "'Não'"
      ]
     },
     "execution_count": 9,
     "metadata": {},
     "output_type": "execute_result"
    }
   ],
   "source": [
    "sts.mode(df_2018_suicidios['ASSISTMED'])"
   ]
  },
  {
   "cell_type": "code",
   "execution_count": 10,
   "id": "c8d861e8",
   "metadata": {},
   "outputs": [
    {
     "name": "stderr",
     "output_type": "stream",
     "text": [
      "C:\\Users\\User\\AppData\\Local\\Temp\\ipykernel_1144\\3094180206.py:2: SettingWithCopyWarning: \n",
      "A value is trying to be set on a copy of a slice from a DataFrame\n",
      "\n",
      "See the caveats in the documentation: https://pandas.pydata.org/pandas-docs/stable/user_guide/indexing.html#returning-a-view-versus-a-copy\n",
      "  df_2018_suicidios['RACACOR'].fillna('Branca', inplace = True)\n",
      "C:\\Users\\User\\AppData\\Local\\Temp\\ipykernel_1144\\3094180206.py:3: SettingWithCopyWarning: \n",
      "A value is trying to be set on a copy of a slice from a DataFrame\n",
      "\n",
      "See the caveats in the documentation: https://pandas.pydata.org/pandas-docs/stable/user_guide/indexing.html#returning-a-view-versus-a-copy\n",
      "  df_2018_suicidios['ESTCIV'].fillna('Solteiro', inplace = True)\n",
      "C:\\Users\\User\\AppData\\Local\\Temp\\ipykernel_1144\\3094180206.py:4: SettingWithCopyWarning: \n",
      "A value is trying to be set on a copy of a slice from a DataFrame\n",
      "\n",
      "See the caveats in the documentation: https://pandas.pydata.org/pandas-docs/stable/user_guide/indexing.html#returning-a-view-versus-a-copy\n",
      "  df_2018_suicidios['ESC'].fillna('8 a 11 anos', inplace = True)\n",
      "C:\\Users\\User\\AppData\\Local\\Temp\\ipykernel_1144\\3094180206.py:5: SettingWithCopyWarning: \n",
      "A value is trying to be set on a copy of a slice from a DataFrame\n",
      "\n",
      "See the caveats in the documentation: https://pandas.pydata.org/pandas-docs/stable/user_guide/indexing.html#returning-a-view-versus-a-copy\n",
      "  df_2018_suicidios['ASSISTMED'].fillna('Não', inplace = True)\n"
     ]
    }
   ],
   "source": [
    "#Substituimos pelos valores de moda que encontramos para cada coluna\n",
    "df_2018_suicidios['RACACOR'].fillna('Branca', inplace = True)\n",
    "df_2018_suicidios['ESTCIV'].fillna('Solteiro', inplace = True)\n",
    "df_2018_suicidios['ESC'].fillna('8 a 11 anos', inplace = True)\n",
    "df_2018_suicidios['ASSISTMED'].fillna('Não', inplace = True)\n",
    "df_2018_suicidios.loc[df_2018_suicidios['OCUP'] == 0, 'OCUP'] = 'Estudante'\n"
   ]
  },
  {
   "cell_type": "code",
   "execution_count": 11,
   "id": "a239802f",
   "metadata": {},
   "outputs": [
    {
     "name": "stderr",
     "output_type": "stream",
     "text": [
      "C:\\Users\\User\\AppData\\Local\\Temp\\ipykernel_1144\\828447404.py:2: SettingWithCopyWarning: \n",
      "A value is trying to be set on a copy of a slice from a DataFrame\n",
      "\n",
      "See the caveats in the documentation: https://pandas.pydata.org/pandas-docs/stable/user_guide/indexing.html#returning-a-view-versus-a-copy\n",
      "  df_2018_suicidios.dropna(inplace = True)\n"
     ]
    }
   ],
   "source": [
    "#Para o restante das colunas com valores nulos com menor volume, iremos dropar\n",
    "df_2018_suicidios.dropna(inplace = True)"
   ]
  },
  {
   "cell_type": "code",
   "execution_count": 12,
   "id": "bd275a5c",
   "metadata": {},
   "outputs": [
    {
     "data": {
      "text/plain": [
       "estado        0\n",
       "ano           0\n",
       "CIRCOBITO     0\n",
       "DTOBITO       0\n",
       "DTNASC        0\n",
       "SEXO          0\n",
       "RACACOR       0\n",
       "ESTCIV        0\n",
       "ESC           0\n",
       "OCUP          0\n",
       "CODMUNRES     0\n",
       "LOCOCOR       0\n",
       "ASSISTMED     0\n",
       "CAUSABAS      0\n",
       "CAUSABAS_O    0\n",
       "idade         0\n",
       "mes           0\n",
       "dtype: int64"
      ]
     },
     "execution_count": 12,
     "metadata": {},
     "output_type": "execute_result"
    }
   ],
   "source": [
    "#Realizamos o check para verificar se ainda existe valores nulos\n",
    "df_2018_suicidios.isnull().sum()"
   ]
  },
  {
   "cell_type": "code",
   "execution_count": 13,
   "id": "00a699e7",
   "metadata": {},
   "outputs": [
    {
     "name": "stdout",
     "output_type": "stream",
     "text": [
      "No ano de 2018 12171 casos de suicídio foram registrados.\n"
     ]
    }
   ],
   "source": [
    "#Contagem de ocorrências de suícidios em 2018\n",
    "num_ocorrencias = df_2018_suicidios['CIRCOBITO'].count()\n",
    "print(\"No ano de 2018,\", num_ocorrencias, \"casos de suicídio foram registrados.\")\n",
    "\n"
   ]
  },
  {
   "cell_type": "code",
   "execution_count": 14,
   "id": "b8b24580",
   "metadata": {
    "scrolled": false
   },
   "outputs": [
    {
     "data": {
      "text/plain": [
       "Text(0, 0.5, 'Estados')"
      ]
     },
     "execution_count": 14,
     "metadata": {},
     "output_type": "execute_result"
    },
    {
     "data": {
      "image/png": "[encoded data removed]",
      "text/plain": [
       "<Figure size 864x720 with 1 Axes>"
      ]
     },
     "metadata": {
      "needs_background": "light"
     },
     "output_type": "display_data"
    }
   ],
   "source": [
    "#Gráfico de ocorrências por Estado\n",
    "suicidios_por_estado = df_2018_suicidios.groupby('estado')['CIRCOBITO'].size().sort_values(ascending = True)\n",
    "plt.figure(figsize = ((12, 10)))\n",
    "suicidios_por_estado.plot.barh(\"estado\", width = 0.5, linewidth = 9.5)\n",
    "plt.xlabel('Suicidíos')\n",
    "plt.ylabel('Estados')"
   ]
  },
  {
   "cell_type": "code",
   "execution_count": 15,
   "id": "011a47ca",
   "metadata": {},
   "outputs": [
    {
     "data": {
      "text/plain": [
       "Text(0, 0.5, 'Sexo')"
      ]
     },
     "execution_count": 15,
     "metadata": {},
     "output_type": "execute_result"
    },
    {
     "data": {
      "image/png": "[encoded data removed]",
      "text/plain": [
       "<Figure size 576x288 with 1 Axes>"
      ]
     },
     "metadata": {
      "needs_background": "light"
     },
     "output_type": "display_data"
    }
   ],
   "source": [
    "#Ocorrências por sexo\n",
    "plt.figure(figsize = ((8, 4)))\n",
    "suicidios_por_sexo = df_2018_suicidios.groupby('SEXO')['CIRCOBITO'].size().sort_values(ascending = True)\n",
    "suicidios_por_sexo.plot.barh(\"sexo\", width = 0.3, linewidth = 5)\n",
    "plt.xlabel('Suicidíos')\n",
    "plt.ylabel('Sexo')"
   ]
  },
  {
   "cell_type": "code",
   "execution_count": 60,
   "id": "71b83c81",
   "metadata": {
    "scrolled": false
   },
   "outputs": [
    {
     "data": {
      "text/plain": [
       "Text(0, 0.5, 'População em milhões de habitantes')"
      ]
     },
     "execution_count": 60,
     "metadata": {},
     "output_type": "execute_result"
    },
    {
     "data": {
      "image/png": "[encoded data removed]",
      "text/plain": [
       "<Figure size 1080x432 with 2 Axes>"
      ]
     },
     "metadata": {
      "needs_background": "light"
     },
     "output_type": "display_data"
    }
   ],
   "source": [
    "#Ocorrências por raça/cor e gráfico da população do Brasil, segundo PNAD 2019\n",
    "suicidios_por_raca = df_2018_suicidios.groupby('RACACOR')['CIRCOBITO'].size().sort_values(ascending = True)\n",
    "plt.figure(figsize = ((15, 6)))\n",
    "plt.subplot(1, 2, 1)\n",
    "suicidios_por_raca.plot.barh(\"sexo\", width = 0.5, linewidth = 7)\n",
    "plt.title('Suicídios por raça/cor')\n",
    "plt.xlabel('Suicidíos')\n",
    "plt.ylabel('Raça')\n",
    "plt.subplot(1, 2, 2)\n",
    "pop_branca = 91885671/1000000\n",
    "pop_parda = 100708417/1000000\n",
    "pop_preta = 20227759/1000000\n",
    "pop_indigena = 1183539/1000000\n",
    "pop_amarela = 1183539/1000000\n",
    "racas = ['Amarela', 'Indigena', 'Preta', 'Parda', 'Branca']\n",
    "populacao = [pop_amarela, pop_indigena, pop_preta, pop_parda, pop_branca]\n",
    "plt.barh(racas, populacao)\n",
    "plt.title(\"População brasileira - PNAD 2019\")\n",
    "plt.xlabel('Raça/cor')\n",
    "plt.ylabel('População em milhões de habitantes')"
   ]
  },
  {
   "cell_type": "code",
   "execution_count": 17,
   "id": "9fc6d014",
   "metadata": {},
   "outputs": [
    {
     "data": {
      "text/plain": [
       "Text(0, 0.5, 'Estado Civil')"
      ]
     },
     "execution_count": 17,
     "metadata": {},
     "output_type": "execute_result"
    },
    {
     "data": {
      "image/png": "[encoded data removed]",
      "text/plain": [
       "<Figure size 576x288 with 1 Axes>"
      ]
     },
     "metadata": {
      "needs_background": "light"
     },
     "output_type": "display_data"
    }
   ],
   "source": [
    "#Ocorrências por estado civil\n",
    "suicidios_por_estado_civil = df_2018_suicidios.groupby('ESTCIV')['CIRCOBITO'].size().sort_values(ascending = True)\n",
    "plt.figure(figsize = ((8, 4)))\n",
    "suicidios_por_estado_civil.plot.barh(\"sexo\", width = 0.5, linewidth = 7)\n",
    "plt.xlabel('Suicidíos')\n",
    "plt.ylabel('Estado Civil')"
   ]
  },
  {
   "cell_type": "code",
   "execution_count": 18,
   "id": "fcfbc483",
   "metadata": {},
   "outputs": [
    {
     "data": {
      "text/plain": [
       "Text(0, 0.5, 'Escolaridade')"
      ]
     },
     "execution_count": 18,
     "metadata": {},
     "output_type": "execute_result"
    },
    {
     "data": {
      "image/png": "[encoded data removed]",
      "text/plain": [
       "<Figure size 576x288 with 1 Axes>"
      ]
     },
     "metadata": {
      "needs_background": "light"
     },
     "output_type": "display_data"
    }
   ],
   "source": [
    "#Ocorrências por grau de escolaridade\n",
    "suicidios_por_escolaridade = df_2018_suicidios.groupby('ESC')['CIRCOBITO'].size().sort_values(ascending = True)\n",
    "plt.figure(figsize = ((8, 4)))\n",
    "suicidios_por_escolaridade.plot.barh(\"sexo\", width = 0.5, linewidth = 7)\n",
    "plt.xlabel('Suicidíos')\n",
    "plt.ylabel('Escolaridade')"
   ]
  },
  {
   "cell_type": "code",
   "execution_count": 19,
   "id": "4183c14a",
   "metadata": {},
   "outputs": [
    {
     "data": {
      "text/plain": [
       "Text(0, 0.5, 'Ocupação')"
      ]
     },
     "execution_count": 19,
     "metadata": {},
     "output_type": "execute_result"
    },
    {
     "data": {
      "image/png": "[encoded data removed]",
      "text/plain": [
       "<Figure size 1800x720 with 1 Axes>"
      ]
     },
     "metadata": {
      "needs_background": "light"
     },
     "output_type": "display_data"
    }
   ],
   "source": [
    "#Ocorrências por ocupação, o valor 0 não foi substituido e nem dropado por não ser um valor nulo. O estudo seria afetado caso realizasse a substituição pelo valor de moda, estudante.\n",
    "suicidios_por_ocupacao = df_2018_suicidios.groupby('OCUP')['CIRCOBITO'].size().sort_values(ascending = True).tail(10)\n",
    "plt.figure(figsize = ((25, 10)))\n",
    "suicidios_por_ocupacao.plot.barh(\"sexo\", width = 0.5, linewidth = 7)\n",
    "plt.xlabel('Suicidíos')\n",
    "plt.ylabel('Ocupação')"
   ]
  },
  {
   "cell_type": "code",
   "execution_count": 20,
   "id": "433a0bd2",
   "metadata": {},
   "outputs": [
    {
     "data": {
      "text/plain": [
       "Text(0, 0.5, 'Municipios')"
      ]
     },
     "execution_count": 20,
     "metadata": {},
     "output_type": "execute_result"
    },
    {
     "data": {
      "image/png": "[encoded data removed]",
      "text/plain": [
       "<Figure size 1800x720 with 1 Axes>"
      ]
     },
     "metadata": {
      "needs_background": "light"
     },
     "output_type": "display_data"
    }
   ],
   "source": [
    "#Ocorrências por cidade\n",
    "suicidios_por_municipio = df_2018_suicidios.groupby('CODMUNRES')['CIRCOBITO'].size().sort_values(ascending = True).tail(10)\n",
    "plt.figure(figsize = ((25, 10)))\n",
    "suicidios_por_municipio.plot.barh(\"sexo\", width = 0.5, linewidth = 7)\n",
    "plt.xlabel('Suicidíos')\n",
    "plt.ylabel('Municipios')"
   ]
  },
  {
   "cell_type": "code",
   "execution_count": 21,
   "id": "1450d2a8",
   "metadata": {},
   "outputs": [
    {
     "data": {
      "text/plain": [
       "Text(0, 0.5, 'Local de ocorrência')"
      ]
     },
     "execution_count": 21,
     "metadata": {},
     "output_type": "execute_result"
    },
    {
     "data": {
      "image/png": "[encoded data removed]",
      "text/plain": [
       "<Figure size 1800x720 with 1 Axes>"
      ]
     },
     "metadata": {
      "needs_background": "light"
     },
     "output_type": "display_data"
    }
   ],
   "source": [
    "#Ocorrências por local do evento\n",
    "suicidios_por_local = df_2018_suicidios.groupby('LOCOCOR')['CIRCOBITO'].size().sort_values(ascending = True)\n",
    "plt.figure(figsize = ((25, 10)))\n",
    "suicidios_por_local.plot.barh(\"sexo\", width = 0.5, linewidth = 7)\n",
    "plt.xlabel('Suicidíos')\n",
    "plt.ylabel('Local de ocorrência')"
   ]
  },
  {
   "cell_type": "code",
   "execution_count": 22,
   "id": "20cf158c",
   "metadata": {},
   "outputs": [
    {
     "data": {
      "text/plain": [
       "Text(0, 0.5, 'Plano de saúde')"
      ]
     },
     "execution_count": 22,
     "metadata": {},
     "output_type": "execute_result"
    },
    {
     "data": {
      "image/png": "[encoded data removed]",
      "text/plain": [
       "<Figure size 1800x720 with 1 Axes>"
      ]
     },
     "metadata": {
      "needs_background": "light"
     },
     "output_type": "display_data"
    }
   ],
   "source": [
    "#Ocorrências por classificação de assistência médica\n",
    "suicidios_por_plano_de_saude = df_2018_suicidios.groupby('ASSISTMED')['CIRCOBITO'].size().sort_values(ascending = True)\n",
    "plt.figure(figsize = ((25, 10)))\n",
    "suicidios_por_plano_de_saude.plot.barh(\"sexo\", width = 0.5, linewidth = 7)\n",
    "plt.xlabel('Suicidíos')\n",
    "plt.ylabel('Plano de saúde')"
   ]
  },
  {
   "cell_type": "code",
   "execution_count": 23,
   "id": "c33fdef0",
   "metadata": {},
   "outputs": [
    {
     "data": {
      "text/plain": [
       "count    12171.000000\n",
       "mean        42.616055\n",
       "std         17.515953\n",
       "min          8.000000\n",
       "25%         29.000000\n",
       "50%         41.000000\n",
       "75%         55.000000\n",
       "max        103.000000\n",
       "Name: idade, dtype: float64"
      ]
     },
     "execution_count": 23,
     "metadata": {},
     "output_type": "execute_result"
    }
   ],
   "source": [
    "#Resumo estatístico da coluna de idade\n",
    "df_2018_suicidios['idade'].describe()"
   ]
  },
  {
   "cell_type": "code",
   "execution_count": 24,
   "id": "448e8377",
   "metadata": {},
   "outputs": [
    {
     "data": {
      "text/html": [
       "<div>\n",
       "<style scoped>\n",
       "    .dataframe tbody tr th:only-of-type {\n",
       "        vertical-align: middle;\n",
       "    }\n",
       "\n",
       "    .dataframe tbody tr th {\n",
       "        vertical-align: top;\n",
       "    }\n",
       "\n",
       "    .dataframe thead th {\n",
       "        text-align: right;\n",
       "    }\n",
       "</style>\n",
       "<table border=\"1\" class=\"dataframe\">\n",
       "  <thead>\n",
       "    <tr style=\"text-align: right;\">\n",
       "      <th></th>\n",
       "      <th>estado</th>\n",
       "      <th>ano</th>\n",
       "      <th>CIRCOBITO</th>\n",
       "      <th>DTOBITO</th>\n",
       "      <th>DTNASC</th>\n",
       "      <th>SEXO</th>\n",
       "      <th>RACACOR</th>\n",
       "      <th>ESTCIV</th>\n",
       "      <th>ESC</th>\n",
       "      <th>OCUP</th>\n",
       "      <th>CODMUNRES</th>\n",
       "      <th>LOCOCOR</th>\n",
       "      <th>ASSISTMED</th>\n",
       "      <th>CAUSABAS</th>\n",
       "      <th>CAUSABAS_O</th>\n",
       "      <th>idade</th>\n",
       "      <th>mes</th>\n",
       "    </tr>\n",
       "  </thead>\n",
       "  <tbody>\n",
       "    <tr>\n",
       "      <th>53129</th>\n",
       "      <td>RJ</td>\n",
       "      <td>2018</td>\n",
       "      <td>Suicídio</td>\n",
       "      <td>23-02-18</td>\n",
       "      <td>23-04-83</td>\n",
       "      <td>Masculino</td>\n",
       "      <td>Branca</td>\n",
       "      <td>Solteiro</td>\n",
       "      <td>8 a 11 anos</td>\n",
       "      <td>RECEPCIONISTA, EM GERAL</td>\n",
       "      <td>Rio de Janeiro</td>\n",
       "      <td>Outros</td>\n",
       "      <td>Não</td>\n",
       "      <td>X709</td>\n",
       "      <td>X709</td>\n",
       "      <td>35.0</td>\n",
       "      <td>2</td>\n",
       "    </tr>\n",
       "    <tr>\n",
       "      <th>53130</th>\n",
       "      <td>RJ</td>\n",
       "      <td>2018</td>\n",
       "      <td>Suicídio</td>\n",
       "      <td>14-01-18</td>\n",
       "      <td>02-01-96</td>\n",
       "      <td>Masculino</td>\n",
       "      <td>Branca</td>\n",
       "      <td>Solteiro</td>\n",
       "      <td>12 e mais</td>\n",
       "      <td>ESTUDANTE</td>\n",
       "      <td>Rio de Janeiro</td>\n",
       "      <td>Domicílio</td>\n",
       "      <td>Não</td>\n",
       "      <td>X700</td>\n",
       "      <td>Y200</td>\n",
       "      <td>22.0</td>\n",
       "      <td>1</td>\n",
       "    </tr>\n",
       "    <tr>\n",
       "      <th>53133</th>\n",
       "      <td>RJ</td>\n",
       "      <td>2018</td>\n",
       "      <td>Suicídio</td>\n",
       "      <td>04-01-18</td>\n",
       "      <td>06-03-94</td>\n",
       "      <td>Feminino</td>\n",
       "      <td>Branca</td>\n",
       "      <td>Solteiro</td>\n",
       "      <td>12 e mais</td>\n",
       "      <td>VENDEDOR DE COMERCIO VAREJISTA</td>\n",
       "      <td>Rio de Janeiro</td>\n",
       "      <td>Outros</td>\n",
       "      <td>Não</td>\n",
       "      <td>X748</td>\n",
       "      <td>X748</td>\n",
       "      <td>24.0</td>\n",
       "      <td>1</td>\n",
       "    </tr>\n",
       "    <tr>\n",
       "      <th>53134</th>\n",
       "      <td>RJ</td>\n",
       "      <td>2018</td>\n",
       "      <td>Suicídio</td>\n",
       "      <td>07-01-18</td>\n",
       "      <td>30-10-66</td>\n",
       "      <td>Masculino</td>\n",
       "      <td>Parda</td>\n",
       "      <td>Solteiro</td>\n",
       "      <td>1 a 3 anos</td>\n",
       "      <td>PEDREIRO</td>\n",
       "      <td>Rio de Janeiro</td>\n",
       "      <td>Domicílio</td>\n",
       "      <td>Não</td>\n",
       "      <td>X780</td>\n",
       "      <td>Y340</td>\n",
       "      <td>52.0</td>\n",
       "      <td>1</td>\n",
       "    </tr>\n",
       "    <tr>\n",
       "      <th>53135</th>\n",
       "      <td>RJ</td>\n",
       "      <td>2018</td>\n",
       "      <td>Suicídio</td>\n",
       "      <td>08-01-18</td>\n",
       "      <td>17-09-72</td>\n",
       "      <td>Masculino</td>\n",
       "      <td>Branca</td>\n",
       "      <td>Solteiro</td>\n",
       "      <td>8 a 11 anos</td>\n",
       "      <td>VENDEDOR EM COMERCIO ATACADISTA</td>\n",
       "      <td>Rio de Janeiro</td>\n",
       "      <td>Outros</td>\n",
       "      <td>Não</td>\n",
       "      <td>X708</td>\n",
       "      <td>Y208</td>\n",
       "      <td>46.0</td>\n",
       "      <td>1</td>\n",
       "    </tr>\n",
       "    <tr>\n",
       "      <th>...</th>\n",
       "      <td>...</td>\n",
       "      <td>...</td>\n",
       "      <td>...</td>\n",
       "      <td>...</td>\n",
       "      <td>...</td>\n",
       "      <td>...</td>\n",
       "      <td>...</td>\n",
       "      <td>...</td>\n",
       "      <td>...</td>\n",
       "      <td>...</td>\n",
       "      <td>...</td>\n",
       "      <td>...</td>\n",
       "      <td>...</td>\n",
       "      <td>...</td>\n",
       "      <td>...</td>\n",
       "      <td>...</td>\n",
       "      <td>...</td>\n",
       "    </tr>\n",
       "    <tr>\n",
       "      <th>53786</th>\n",
       "      <td>RJ</td>\n",
       "      <td>2018</td>\n",
       "      <td>Suicídio</td>\n",
       "      <td>28-12-18</td>\n",
       "      <td>22-04-95</td>\n",
       "      <td>Masculino</td>\n",
       "      <td>Branca</td>\n",
       "      <td>Solteiro</td>\n",
       "      <td>12 e mais</td>\n",
       "      <td>ESTUDANTE</td>\n",
       "      <td>Rio de Janeiro</td>\n",
       "      <td>Domicílio</td>\n",
       "      <td>Não</td>\n",
       "      <td>X849</td>\n",
       "      <td>R99</td>\n",
       "      <td>23.0</td>\n",
       "      <td>12</td>\n",
       "    </tr>\n",
       "    <tr>\n",
       "      <th>53787</th>\n",
       "      <td>RJ</td>\n",
       "      <td>2018</td>\n",
       "      <td>Suicídio</td>\n",
       "      <td>31-12-18</td>\n",
       "      <td>21-10-99</td>\n",
       "      <td>Masculino</td>\n",
       "      <td>Branca</td>\n",
       "      <td>Solteiro</td>\n",
       "      <td>8 a 11 anos</td>\n",
       "      <td>0</td>\n",
       "      <td>Rio de Janeiro</td>\n",
       "      <td>Domicílio</td>\n",
       "      <td>Não</td>\n",
       "      <td>X700</td>\n",
       "      <td>Y200</td>\n",
       "      <td>19.0</td>\n",
       "      <td>12</td>\n",
       "    </tr>\n",
       "    <tr>\n",
       "      <th>53806</th>\n",
       "      <td>RJ</td>\n",
       "      <td>2018</td>\n",
       "      <td>Suicídio</td>\n",
       "      <td>15-12-18</td>\n",
       "      <td>13-02-36</td>\n",
       "      <td>Feminino</td>\n",
       "      <td>Branca</td>\n",
       "      <td>Casado</td>\n",
       "      <td>4 a 7 anos</td>\n",
       "      <td>DONA DE CASA</td>\n",
       "      <td>Rio de Janeiro</td>\n",
       "      <td>Hospital</td>\n",
       "      <td>Sim</td>\n",
       "      <td>X749</td>\n",
       "      <td>X749</td>\n",
       "      <td>82.0</td>\n",
       "      <td>12</td>\n",
       "    </tr>\n",
       "    <tr>\n",
       "      <th>53809</th>\n",
       "      <td>RJ</td>\n",
       "      <td>2018</td>\n",
       "      <td>Suicídio</td>\n",
       "      <td>22-11-18</td>\n",
       "      <td>09-02-65</td>\n",
       "      <td>Masculino</td>\n",
       "      <td>Branca</td>\n",
       "      <td>Solteiro</td>\n",
       "      <td>8 a 11 anos</td>\n",
       "      <td>0</td>\n",
       "      <td>Rio de Janeiro</td>\n",
       "      <td>Outros</td>\n",
       "      <td>Não</td>\n",
       "      <td>X849</td>\n",
       "      <td>R99</td>\n",
       "      <td>53.0</td>\n",
       "      <td>11</td>\n",
       "    </tr>\n",
       "    <tr>\n",
       "      <th>53819</th>\n",
       "      <td>RJ</td>\n",
       "      <td>2018</td>\n",
       "      <td>Suicídio</td>\n",
       "      <td>23-12-18</td>\n",
       "      <td>06-04-98</td>\n",
       "      <td>Masculino</td>\n",
       "      <td>Branca</td>\n",
       "      <td>Solteiro</td>\n",
       "      <td>8 a 11 anos</td>\n",
       "      <td>MOTOCICLISTA NO TRANSPORTE DE DOCUMENTOS E PEQ...</td>\n",
       "      <td>Rio de Janeiro</td>\n",
       "      <td>Outros</td>\n",
       "      <td>Não</td>\n",
       "      <td>X700</td>\n",
       "      <td>X700</td>\n",
       "      <td>20.0</td>\n",
       "      <td>12</td>\n",
       "    </tr>\n",
       "  </tbody>\n",
       "</table>\n",
       "<p>287 rows × 17 columns</p>\n",
       "</div>"
      ],
      "text/plain": [
       "      estado   ano CIRCOBITO   DTOBITO    DTNASC       SEXO RACACOR    ESTCIV  \\\n",
       "53129     RJ  2018  Suicídio  23-02-18  23-04-83  Masculino  Branca  Solteiro   \n",
       "53130     RJ  2018  Suicídio  14-01-18  02-01-96  Masculino  Branca  Solteiro   \n",
       "53133     RJ  2018  Suicídio  04-01-18  06-03-94   Feminino  Branca  Solteiro   \n",
       "53134     RJ  2018  Suicídio  07-01-18  30-10-66  Masculino   Parda  Solteiro   \n",
       "53135     RJ  2018  Suicídio  08-01-18  17-09-72  Masculino  Branca  Solteiro   \n",
       "...      ...   ...       ...       ...       ...        ...     ...       ...   \n",
       "53786     RJ  2018  Suicídio  28-12-18  22-04-95  Masculino  Branca  Solteiro   \n",
       "53787     RJ  2018  Suicídio  31-12-18  21-10-99  Masculino  Branca  Solteiro   \n",
       "53806     RJ  2018  Suicídio  15-12-18  13-02-36   Feminino  Branca    Casado   \n",
       "53809     RJ  2018  Suicídio  22-11-18  09-02-65  Masculino  Branca  Solteiro   \n",
       "53819     RJ  2018  Suicídio  23-12-18  06-04-98  Masculino  Branca  Solteiro   \n",
       "\n",
       "               ESC                                               OCUP  \\\n",
       "53129  8 a 11 anos                            RECEPCIONISTA, EM GERAL   \n",
       "53130    12 e mais                                          ESTUDANTE   \n",
       "53133    12 e mais                     VENDEDOR DE COMERCIO VAREJISTA   \n",
       "53134   1 a 3 anos                                           PEDREIRO   \n",
       "53135  8 a 11 anos                    VENDEDOR EM COMERCIO ATACADISTA   \n",
       "...            ...                                                ...   \n",
       "53786    12 e mais                                          ESTUDANTE   \n",
       "53787  8 a 11 anos                                                  0   \n",
       "53806   4 a 7 anos                                       DONA DE CASA   \n",
       "53809  8 a 11 anos                                                  0   \n",
       "53819  8 a 11 anos  MOTOCICLISTA NO TRANSPORTE DE DOCUMENTOS E PEQ...   \n",
       "\n",
       "            CODMUNRES    LOCOCOR ASSISTMED CAUSABAS CAUSABAS_O  idade  mes  \n",
       "53129  Rio de Janeiro     Outros       Não     X709       X709   35.0    2  \n",
       "53130  Rio de Janeiro  Domicílio       Não     X700       Y200   22.0    1  \n",
       "53133  Rio de Janeiro     Outros       Não     X748       X748   24.0    1  \n",
       "53134  Rio de Janeiro  Domicílio       Não     X780       Y340   52.0    1  \n",
       "53135  Rio de Janeiro     Outros       Não     X708       Y208   46.0    1  \n",
       "...               ...        ...       ...      ...        ...    ...  ...  \n",
       "53786  Rio de Janeiro  Domicílio       Não     X849        R99   23.0   12  \n",
       "53787  Rio de Janeiro  Domicílio       Não     X700       Y200   19.0   12  \n",
       "53806  Rio de Janeiro   Hospital       Sim     X749       X749   82.0   12  \n",
       "53809  Rio de Janeiro     Outros       Não     X849        R99   53.0   11  \n",
       "53819  Rio de Janeiro     Outros       Não     X700       X700   20.0   12  \n",
       "\n",
       "[287 rows x 17 columns]"
      ]
     },
     "execution_count": 24,
     "metadata": {},
     "output_type": "execute_result"
    }
   ],
   "source": [
    "#Analisando a cidade Rio de Janeiro\n",
    "rio_de_janeiro_suicidios = df_2018_suicidios.loc[df_2018_suicidios['CODMUNRES'] == 'Rio de Janeiro']\n",
    "rio_de_janeiro_suicidios"
   ]
  },
  {
   "cell_type": "code",
   "execution_count": 25,
   "id": "77f351ef",
   "metadata": {},
   "outputs": [
    {
     "data": {
      "text/plain": [
       "SEXO\n",
       "Masculino    193\n",
       "Feminino      94\n",
       "Name: CIRCOBITO, dtype: int64"
      ]
     },
     "execution_count": 25,
     "metadata": {},
     "output_type": "execute_result"
    }
   ],
   "source": [
    "#Agrupamento por sexo\n",
    "rio_de_janeiro_suicidios.groupby('SEXO')['CIRCOBITO'].size().sort_values(ascending = False)"
   ]
  },
  {
   "cell_type": "code",
   "execution_count": 26,
   "id": "ab82994c",
   "metadata": {},
   "outputs": [
    {
     "data": {
      "text/plain": [
       "RACACOR\n",
       "Branca     167\n",
       "Parda       94\n",
       "Preta       25\n",
       "Amarela      1\n",
       "Name: CIRCOBITO, dtype: int64"
      ]
     },
     "execution_count": 26,
     "metadata": {},
     "output_type": "execute_result"
    }
   ],
   "source": [
    "#Agrupamento por raça\n",
    "rio_de_janeiro_suicidios.groupby('RACACOR')['CIRCOBITO'].size().sort_values(ascending = False)"
   ]
  },
  {
   "cell_type": "code",
   "execution_count": 27,
   "id": "620b6d60",
   "metadata": {},
   "outputs": [
    {
     "data": {
      "text/plain": [
       "ESTCIV\n",
       "Solteiro                  183\n",
       "Casado                     64\n",
       "Separado judicialmente     29\n",
       "Viúvo                      10\n",
       "União consensual            1\n",
       "Name: CIRCOBITO, dtype: int64"
      ]
     },
     "execution_count": 27,
     "metadata": {},
     "output_type": "execute_result"
    }
   ],
   "source": [
    "#Agrupamento por estado civil\n",
    "rio_de_janeiro_suicidios.groupby('ESTCIV')['CIRCOBITO'].size().sort_values(ascending = False)"
   ]
  },
  {
   "cell_type": "code",
   "execution_count": 28,
   "id": "04414eb1",
   "metadata": {},
   "outputs": [
    {
     "data": {
      "text/plain": [
       "OCUP\n",
       "0                                  62\n",
       "ESTUDANTE                          23\n",
       "DONA DE CASA                       18\n",
       "PEDREIRO                            9\n",
       "VENDEDOR EM COMERCIO ATACADISTA     8\n",
       "ADVOGADO                            7\n",
       "Name: CIRCOBITO, dtype: int64"
      ]
     },
     "execution_count": 28,
     "metadata": {},
     "output_type": "execute_result"
    }
   ],
   "source": [
    "#Agrupamento por ocupação\n",
    "rio_de_janeiro_suicidios.groupby('OCUP')['CIRCOBITO'].size().sort_values(ascending = False).head(6)"
   ]
  },
  {
   "cell_type": "code",
   "execution_count": 29,
   "id": "4ede29a9",
   "metadata": {},
   "outputs": [
    {
     "data": {
      "text/plain": [
       "ASSISTMED\n",
       "Não    271\n",
       "Sim     16\n",
       "Name: CIRCOBITO, dtype: int64"
      ]
     },
     "execution_count": 29,
     "metadata": {},
     "output_type": "execute_result"
    }
   ],
   "source": [
    "#Agrupamento por assistência médica\n",
    "rio_de_janeiro_suicidios.groupby('ASSISTMED')['CIRCOBITO'].size().sort_values(ascending = False).head(6)"
   ]
  },
  {
   "cell_type": "code",
   "execution_count": 34,
   "id": "ce96886e",
   "metadata": {},
   "outputs": [],
   "source": [
    "#Criação de todas as variáveis de ocorrência para cada ano (2014 até 2018)\n",
    "ocorr_2014 = df_geral.loc[df_geral['ano'] == 2014]\n",
    "ocorr_2015 = df_geral.loc[df_geral['ano'] == 2015]\n",
    "ocorr_2016 = df_geral.loc[df_geral['ano'] == 2016]\n",
    "ocorr_2017 = df_geral.loc[df_geral['ano'] == 2017]\n",
    "ocorr_2018 = df_geral.loc[df_geral['ano'] == 2018]\n",
    "\n",
    "suicidios_2014 = ocorr_2014.loc[ocorr_2014['CIRCOBITO'] == 'Suicídio']\n",
    "suicidios_2015 = ocorr_2015.loc[ocorr_2015['CIRCOBITO'] == 'Suicídio']\n",
    "suicidios_2016 = ocorr_2016.loc[ocorr_2016['CIRCOBITO'] == 'Suicídio']\n",
    "suicidios_2017 = ocorr_2017.loc[ocorr_2017['CIRCOBITO'] == 'Suicídio']\n",
    "suicidios_2018 = ocorr_2018.loc[ocorr_2018['CIRCOBITO'] == 'Suicídio']\n",
    "\n"
   ]
  },
  {
   "cell_type": "code",
   "execution_count": 42,
   "id": "4259c834",
   "metadata": {},
   "outputs": [],
   "source": [
    "#Criação de todas as variáveis de ocorrência para cada ano (2014 até 2018)\n",
    "num_2014 = suicidios_2014.CIRCOBITO.count()\n",
    "num_2015 = suicidios_2015.CIRCOBITO.count()\n",
    "num_2016 = suicidios_2016.CIRCOBITO.count()\n",
    "num_2017 = suicidios_2017.CIRCOBITO.count()\n",
    "num_2018 = suicidios_2018.CIRCOBITO.count()\n",
    "anos = ['2014', '2015', '2016', '2017', '2018']\n",
    "ocorrencias_comparativo = [num_2014, num_2015, num_2016, num_2017, num_2018]"
   ]
  },
  {
   "cell_type": "code",
   "execution_count": 46,
   "id": "c5ec1ab3",
   "metadata": {},
   "outputs": [
    {
     "data": {
      "text/plain": [
       "Text(0.5, 1.0, 'Casos de suicídio no Brasil ao longo dos anos')"
      ]
     },
     "execution_count": 46,
     "metadata": {},
     "output_type": "execute_result"
    },
    {
     "data": {
      "image/png": "[encoded data removed]",
      "text/plain": [
       "<Figure size 576x432 with 1 Axes>"
      ]
     },
     "metadata": {
      "needs_background": "light"
     },
     "output_type": "display_data"
    }
   ],
   "source": [
    "#Gráfico comparativo entre os anos 2014 até 2018\n",
    "plt.figure(figsize = ((8, 6)))\n",
    "plt.plot(anos, ocorrencias_comparativo)\n",
    "plt.xlabel('Ano')\n",
    "plt.ylabel('Número de suicídios registrados')\n",
    "plt.title('Casos de suicídio no Brasil ao longo dos anos')\n"
   ]
  },
  {
   "cell_type": "code",
   "execution_count": null,
   "id": "80fce978",
   "metadata": {},
   "outputs": [],
   "source": []
  }
 ],
 "metadata": {
  "kernelspec": {
   "display_name": "Python 3 (ipykernel)",
   "language": "python",
   "name": "python3"
  },
  "language_info": {
   "codemirror_mode": {
    "name": "ipython",
    "version": 3
   },
   "file_extension": ".py",
   "mimetype": "text/x-python",
   "name": "python",
   "nbconvert_exporter": "python",
   "pygments_lexer": "ipython3",
   "version": "3.9.12"
  }
 },
 "nbformat": 4,
 "nbformat_minor": 5
}
